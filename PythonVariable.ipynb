{
 "cells": [
  {
   "cell_type": "code",
   "execution_count": 1,
   "id": "0091e4fc",
   "metadata": {},
   "outputs": [
    {
     "name": "stdout",
     "output_type": "stream",
     "text": [
      "10\n",
      "Shaikat\n"
     ]
    }
   ],
   "source": [
    "x = 10\n",
    "y = \"Shaikat\"\n",
    "print(x)\n",
    "print(y)"
   ]
  },
  {
   "cell_type": "markdown",
   "id": "371ae38b",
   "metadata": {},
   "source": [
    "# Type Casting"
   ]
  },
  {
   "cell_type": "code",
   "execution_count": 19,
   "id": "02864eb1",
   "metadata": {},
   "outputs": [
    {
     "name": "stdout",
     "output_type": "stream",
     "text": [
      "10 is a Type <class 'str'>\n",
      "10 is a type of <class 'int'>\n",
      "10.0 is a type of <class 'float'>\n"
     ]
    }
   ],
   "source": [
    "x = str(10)\n",
    "print(x,\"is a Type\",type(x))\n",
    "\n",
    "y = int(10.0)\n",
    "print(y,\"is a type of\",type(y))\n",
    "\n",
    "z = float(10)\n",
    "print(z,\"is a type of\",type(z))"
   ]
  },
  {
   "cell_type": "markdown",
   "id": "ca64f063",
   "metadata": {},
   "source": [
    "\n",
    "# Assigning one value in multiple variable"
   ]
  },
  {
   "cell_type": "code",
   "execution_count": 20,
   "id": "b6e60d6e",
   "metadata": {},
   "outputs": [
    {
     "name": "stdout",
     "output_type": "stream",
     "text": [
      "Abu Shadat Shaikat\n",
      "Abu Shadat Shaikat\n",
      "Abu Shadat Shaikat\n"
     ]
    }
   ],
   "source": [
    "x = y = z = \"Abu Shadat Shaikat\"\n",
    "\n",
    "print(x)\n",
    "print(y)\n",
    "print(z)"
   ]
  },
  {
   "cell_type": "markdown",
   "id": "9b570051",
   "metadata": {},
   "source": [
    "\n",
    "# Unpack a collection"
   ]
  },
  {
   "cell_type": "code",
   "execution_count": 21,
   "id": "913cbc50",
   "metadata": {},
   "outputs": [
    {
     "name": "stdout",
     "output_type": "stream",
     "text": [
      "Hunday\n",
      "BMW\n",
      "Rang Rover\n"
     ]
    }
   ],
   "source": [
    "cars = ['Hunday','BMW','Rang Rover']\n",
    "a,b,c = cars\n",
    "\n",
    "print(a)\n",
    "print(b)\n",
    "print(c)"
   ]
  }
 ],
 "metadata": {
  "kernelspec": {
   "display_name": "Python 3 (ipykernel)",
   "language": "python",
   "name": "python3"
  },
  "language_info": {
   "codemirror_mode": {
    "name": "ipython",
    "version": 3
   },
   "file_extension": ".py",
   "mimetype": "text/x-python",
   "name": "python",
   "nbconvert_exporter": "python",
   "pygments_lexer": "ipython3",
   "version": "3.9.13"
  }
 },
 "nbformat": 4,
 "nbformat_minor": 5
}
