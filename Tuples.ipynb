{
 "cells": [
  {
   "cell_type": "code",
   "execution_count": 2,
   "id": "9b0e4fa6",
   "metadata": {},
   "outputs": [
    {
     "name": "stdout",
     "output_type": "stream",
     "text": [
      "<class 'tuple'>\n",
      "(10, 30, 50, 100, 99, 800)\n"
     ]
    }
   ],
   "source": [
    "x = (10,30,50,100,99,800)\n",
    "print(type(x))\n",
    "print(x)"
   ]
  },
  {
   "cell_type": "code",
   "execution_count": 3,
   "id": "be9b5570",
   "metadata": {},
   "outputs": [
    {
     "name": "stdout",
     "output_type": "stream",
     "text": [
      "10 30 50 100 99 800 "
     ]
    }
   ],
   "source": [
    "for i in x:\n",
    "    print(i,end=\" \")"
   ]
  },
  {
   "cell_type": "code",
   "execution_count": 4,
   "id": "3bbab73b",
   "metadata": {},
   "outputs": [
    {
     "name": "stdout",
     "output_type": "stream",
     "text": [
      "10 30 50 100 99 800 "
     ]
    }
   ],
   "source": [
    "for i in range(len(x)):\n",
    "    print(x[i],end=\" \")"
   ]
  },
  {
   "cell_type": "code",
   "execution_count": 5,
   "id": "debe6ffa",
   "metadata": {},
   "outputs": [
    {
     "name": "stdout",
     "output_type": "stream",
     "text": [
      "(10, 30, 50, 100, 99, 800)\n"
     ]
    }
   ],
   "source": [
    "print(x[0:len(x)])"
   ]
  },
  {
   "cell_type": "code",
   "execution_count": 10,
   "id": "094b6b06",
   "metadata": {},
   "outputs": [
    {
     "name": "stdout",
     "output_type": "stream",
     "text": [
      "(10, 30, 50, 100, 99)\n"
     ]
    }
   ],
   "source": [
    "print(x[-6:-1])"
   ]
  },
  {
   "cell_type": "code",
   "execution_count": 12,
   "id": "d9cdc4b5",
   "metadata": {},
   "outputs": [
    {
     "name": "stdout",
     "output_type": "stream",
     "text": [
      "(10, 30, 50, 100, 99, 800, 55)\n"
     ]
    }
   ],
   "source": [
    "x = list(x)\n",
    "x.append(55)\n",
    "x = tuple(x)\n",
    "print(x)"
   ]
  },
  {
   "cell_type": "markdown",
   "id": "d7565dff",
   "metadata": {},
   "source": [
    "\n",
    "# Unpack Tuples"
   ]
  },
  {
   "cell_type": "code",
   "execution_count": 18,
   "id": "f02a4182",
   "metadata": {},
   "outputs": [
    {
     "name": "stdout",
     "output_type": "stream",
     "text": [
      "BMW\n",
      "Roads Royal\n",
      "Rang ROver\n"
     ]
    }
   ],
   "source": [
    "name = (\"BMW\",\"Roads Royal\",\"Rang ROver\")\n",
    "(One,Two,Three) = name\n",
    "\n",
    "print(One)\n",
    "print(Two)\n",
    "print(Three)"
   ]
  }
 ],
 "metadata": {
  "kernelspec": {
   "display_name": "Python 3 (ipykernel)",
   "language": "python",
   "name": "python3"
  },
  "language_info": {
   "codemirror_mode": {
    "name": "ipython",
    "version": 3
   },
   "file_extension": ".py",
   "mimetype": "text/x-python",
   "name": "python",
   "nbconvert_exporter": "python",
   "pygments_lexer": "ipython3",
   "version": "3.9.13"
  }
 },
 "nbformat": 4,
 "nbformat_minor": 5
}
