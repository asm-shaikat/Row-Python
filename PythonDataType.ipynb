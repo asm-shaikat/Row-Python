{
 "cells": [
  {
   "cell_type": "code",
   "execution_count": 11,
   "id": "6eb8d5ef",
   "metadata": {},
   "outputs": [
    {
     "name": "stdout",
     "output_type": "stream",
     "text": [
      "<class 'int'>\n"
     ]
    }
   ],
   "source": [
    "x = 200101057\n",
    "print(type(x))"
   ]
  },
  {
   "cell_type": "code",
   "execution_count": 12,
   "id": "dbed125c",
   "metadata": {},
   "outputs": [
    {
     "name": "stdout",
     "output_type": "stream",
     "text": [
      "<class 'str'>\n"
     ]
    }
   ],
   "source": [
    "y = \"Shaikat\"\n",
    "print(type(y))"
   ]
  },
  {
   "cell_type": "code",
   "execution_count": 13,
   "id": "21397233",
   "metadata": {},
   "outputs": [
    {
     "name": "stdout",
     "output_type": "stream",
     "text": [
      "<class 'float'>\n"
     ]
    }
   ],
   "source": [
    "z = 20.57\n",
    "print(type(z))"
   ]
  },
  {
   "cell_type": "code",
   "execution_count": 14,
   "id": "43379418",
   "metadata": {},
   "outputs": [
    {
     "name": "stdout",
     "output_type": "stream",
     "text": [
      "<class 'complex'>\n"
     ]
    }
   ],
   "source": [
    "x1 = 2j\n",
    "print(type(x1))"
   ]
  },
  {
   "cell_type": "code",
   "execution_count": 15,
   "id": "1f47d2da",
   "metadata": {},
   "outputs": [
    {
     "name": "stdout",
     "output_type": "stream",
     "text": [
      "<class 'list'>\n"
     ]
    }
   ],
   "source": [
    "y1 = [1,\"SHaikat\",20.00]\n",
    "print(type(y1))"
   ]
  },
  {
   "cell_type": "code",
   "execution_count": 16,
   "id": "fbf0bc12",
   "metadata": {},
   "outputs": [
    {
     "name": "stdout",
     "output_type": "stream",
     "text": [
      "<class 'tuple'>\n"
     ]
    }
   ],
   "source": [
    "z1 = (10,20,30)\n",
    "print(type(z1))"
   ]
  },
  {
   "cell_type": "code",
   "execution_count": 18,
   "id": "71037a95",
   "metadata": {},
   "outputs": [
    {
     "name": "stdout",
     "output_type": "stream",
     "text": [
      "<class 'range'>\n"
     ]
    }
   ],
   "source": [
    "x2 = range(10)\n",
    "print(type(x2))"
   ]
  },
  {
   "cell_type": "code",
   "execution_count": 24,
   "id": "836fdacd",
   "metadata": {},
   "outputs": [
    {
     "name": "stdout",
     "output_type": "stream",
     "text": [
      "<class 'dict'>\n"
     ]
    }
   ],
   "source": [
    "y2 = {\"name\":\"Abu Shadat Shaikat\",\"age\":22}\n",
    "print(type(y2))"
   ]
  },
  {
   "cell_type": "code",
   "execution_count": 25,
   "id": "3d21c9c5",
   "metadata": {},
   "outputs": [
    {
     "name": "stdout",
     "output_type": "stream",
     "text": [
      "<class 'set'>\n"
     ]
    }
   ],
   "source": [
    "z2 = {1,200,99,57}\n",
    "print(type(z2))"
   ]
  },
  {
   "cell_type": "code",
   "execution_count": 26,
   "id": "90bc95c5",
   "metadata": {},
   "outputs": [
    {
     "name": "stdout",
     "output_type": "stream",
     "text": [
      "<class 'frozenset'>\n"
     ]
    }
   ],
   "source": [
    "x3 = frozenset({10,20,30})\n",
    "print(type(x3))"
   ]
  },
  {
   "cell_type": "code",
   "execution_count": 27,
   "id": "02cf6e51",
   "metadata": {},
   "outputs": [
    {
     "name": "stdout",
     "output_type": "stream",
     "text": [
      "<class 'bool'>\n"
     ]
    }
   ],
   "source": [
    "y3 = True\n",
    "print(type(y3))"
   ]
  },
  {
   "cell_type": "code",
   "execution_count": 31,
   "id": "7beb968d",
   "metadata": {},
   "outputs": [
    {
     "name": "stdout",
     "output_type": "stream",
     "text": [
      "<class 'bytes'>\n"
     ]
    }
   ],
   "source": [
    "z3 = B\"Hello\"\n",
    "print(type(z3))"
   ]
  },
  {
   "cell_type": "code",
   "execution_count": 32,
   "id": "f373ae93",
   "metadata": {},
   "outputs": [
    {
     "name": "stdout",
     "output_type": "stream",
     "text": [
      "<class 'NoneType'>\n"
     ]
    }
   ],
   "source": [
    "x4 = None\n",
    "print(type(x4))"
   ]
  }
 ],
 "metadata": {
  "kernelspec": {
   "display_name": "Python 3 (ipykernel)",
   "language": "python",
   "name": "python3"
  },
  "language_info": {
   "codemirror_mode": {
    "name": "ipython",
    "version": 3
   },
   "file_extension": ".py",
   "mimetype": "text/x-python",
   "name": "python",
   "nbconvert_exporter": "python",
   "pygments_lexer": "ipython3",
   "version": "3.9.13"
  }
 },
 "nbformat": 4,
 "nbformat_minor": 5
}
